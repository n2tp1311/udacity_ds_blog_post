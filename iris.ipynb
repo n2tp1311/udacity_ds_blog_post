{
 "cells": [
  {
   "metadata": {},
   "cell_type": "markdown",
   "source": "# [] Business Understanding",
   "id": "1d96f4b56da839ad"
  },
  {
   "metadata": {},
   "cell_type": "markdown",
   "source": "# [] Data Understanding",
   "id": "74ea5fe5943656ca"
  },
  {
   "metadata": {},
   "cell_type": "markdown",
   "source": "# [] Data Preparation",
   "id": "6b2e0743d7f1a911"
  },
  {
   "metadata": {},
   "cell_type": "markdown",
   "source": "# [] Modeling",
   "id": "7ea57d3a30430e64"
  },
  {
   "metadata": {},
   "cell_type": "markdown",
   "source": "# [] Evaluation",
   "id": "66d80b447b8a4d98"
  },
  {
   "metadata": {},
   "cell_type": "markdown",
   "source": "# [] Deployment",
   "id": "f1b6024aec5ef1b2"
  }
 ],
 "metadata": {
  "kernelspec": {
   "display_name": "Python 3",
   "language": "python",
   "name": "python3"
  },
  "language_info": {
   "codemirror_mode": {
    "name": "ipython",
    "version": 2
   },
   "file_extension": ".py",
   "mimetype": "text/x-python",
   "name": "python",
   "nbconvert_exporter": "python",
   "pygments_lexer": "ipython2",
   "version": "2.7.6"
  }
 },
 "nbformat": 4,
 "nbformat_minor": 5
}
